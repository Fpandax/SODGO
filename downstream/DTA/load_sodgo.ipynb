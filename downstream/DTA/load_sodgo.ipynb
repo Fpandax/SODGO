{
 "cells": [
  {
   "metadata": {
    "ExecuteTime": {
     "end_time": "2025-01-05T11:21:56.241900Z",
     "start_time": "2025-01-05T11:21:50.379779Z"
    }
   },
   "cell_type": "code",
   "source": [
    "import pandas as pd\n",
    "import numpy as np\n",
    "\n",
    "# 读取davis_protein_go_vector.csv文件\n",
    "protein_go_file = 'davis_protein_go_vector.csv'\n",
    "go_embedding_file = 'GO_IDs_Namespaces_Embedding.csv'\n",
    "\n",
    "# 加载蛋白质数据（蛋白质ID和GO注释的独热编码）\n",
    "protein_go_df = pd.read_csv(protein_go_file)\n",
    "\n",
    "# 加载GO嵌入数据\n",
    "go_embedding_df = pd.read_csv(go_embedding_file)\n",
    "\n",
    "# 创建GO_ID -> embedding的映射字典\n",
    "go_embeddings_dict = dict(zip(go_embedding_df['GO_id'], go_embedding_df['embedding']))\n",
    "\n",
    "# 1. 将嵌入字符串解析为数值向量\n",
    "parsed_go_embeddings_dict = {\n",
    "    go_id: np.fromstring(embedding.strip(\"[]\"), sep=\",\")\n",
    "    for go_id, embedding in go_embeddings_dict.items()\n",
    "}\n",
    "\n",
    "# 2. 聚合每个蛋白质的GO嵌入\n",
    "protein_embeddings = []\n",
    "\n",
    "# 遍历每一行，处理蛋白质 ID 和 GO 注释\n",
    "for index, row in protein_go_df.iterrows():\n",
    "    protein_id = row.iloc[0]  # 获取蛋白质 ID\n",
    "    # 跳过第一列（蛋白质 ID 列），进行布尔索引\n",
    "    go_ids = protein_go_df.columns[1:][row[1:].astype(bool)].tolist()  # 提取相关联的 GO_ID 列\n",
    "    embeddings = [\n",
    "        parsed_go_embeddings_dict[go_id]\n",
    "        for go_id in go_ids\n",
    "        if go_id in parsed_go_embeddings_dict\n",
    "    ]  # 查找对应的嵌入向量\n",
    "    if embeddings:  # 如果该蛋白质有对应的 GO 嵌入\n",
    "        summed_embedding = np.sum(embeddings, axis=0)  # 对嵌入向量进行逐元素相加\n",
    "        avg_embedding = summed_embedding / len(embeddings)  # 除以注释的GO ID总数\n",
    "    else:\n",
    "        avg_embedding = np.zeros(len(list(parsed_go_embeddings_dict.values())[0]))  # 如果没有关联 GO，返回零向量\n",
    "    protein_embeddings.append((protein_id, avg_embedding))\n",
    "\n",
    "# 3. 构造新的 DataFrame\n",
    "protein_embedding_df = pd.DataFrame(\n",
    "    protein_embeddings, columns=[\"protein_id\", \"embedding\"]\n",
    ")\n",
    "\n",
    "# 4. 将嵌入向量展开为单独的列\n",
    "embedding_columns = [f\"embedding_{i+1}\" for i in range(len(protein_embeddings[0][1]))]\n",
    "final_protein_embedding_df = pd.concat(\n",
    "    [\n",
    "        protein_embedding_df[\"protein_id\"],\n",
    "        pd.DataFrame(protein_embedding_df[\"embedding\"].tolist(), columns=embedding_columns),\n",
    "    ],\n",
    "    axis=1,\n",
    ")\n",
    "\n",
    "# 保存结果为 CSV 文件\n",
    "final_protein_embedding_df.to_csv(\"davis_protein_disengo_embeddings_avg.csv\", index=False)\n",
    "\n",
    "print(\"蛋白质嵌入处理完成，结果已保存为 'davis_protein_disengo_embeddings_avg.csv'\")\n"
   ],
   "id": "81caf224d8d45dd8",
   "outputs": [
    {
     "name": "stdout",
     "output_type": "stream",
     "text": [
      "蛋白质嵌入处理完成，结果已保存为 'davis_protein_disengo_embeddings_avg.csv'\n"
     ]
    }
   ],
   "execution_count": 1
  },
  {
   "metadata": {},
   "cell_type": "code",
   "outputs": [],
   "execution_count": null,
   "source": "",
   "id": "d2484df10bfe4ae3"
  }
 ],
 "metadata": {
  "kernelspec": {
   "display_name": "Python 3",
   "language": "python",
   "name": "python3"
  },
  "language_info": {
   "codemirror_mode": {
    "name": "ipython",
    "version": 2
   },
   "file_extension": ".py",
   "mimetype": "text/x-python",
   "name": "python",
   "nbconvert_exporter": "python",
   "pygments_lexer": "ipython2",
   "version": "2.7.6"
  }
 },
 "nbformat": 4,
 "nbformat_minor": 5
}
