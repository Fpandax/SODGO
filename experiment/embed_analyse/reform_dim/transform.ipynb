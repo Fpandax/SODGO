{
 "cells": [
  {
   "cell_type": "code",
   "id": "initial_id",
   "metadata": {
    "collapsed": true,
    "ExecuteTime": {
     "end_time": "2024-11-16T14:10:32.424011Z",
     "start_time": "2024-11-16T14:10:22.468053Z"
    }
   },
   "source": [
    "import pandas as pd\n",
    "import numpy as np\n",
    "\n",
    "# 步骤 1：将现有的 CSV 文件加载到 pandas DataFrame 中\n",
    "input_csv_path = r'E:\\桌面\\服务器\\similarity_GO\\basic\\data\\prior\\GO_IDs_Namespaces_Embedding.csv'\n",
    "df = pd.read_csv(input_csv_path)\n",
    "\n",
    "# 步骤 2：从文本文件中加载新的嵌入向量\n",
    "embeddings_txt_path = r'embeding/SODGO_embedings.txt'\n",
    "new_embeddings = []\n",
    "\n",
    "with open(embeddings_txt_path, 'r') as f:\n",
    "    next(f)  # 跳过第一行\n",
    "    for line in f:\n",
    "        embedding = [float(x) for x in line.strip().split()[1:]]  # 跳过每行的第一列\n",
    "        new_embeddings.append(embedding)\n",
    "\n",
    "# 检查嵌入向量是否具有相同的长度\n",
    "embedding_length = len(new_embeddings[0])\n",
    "if all(len(embedding) == embedding_length for embedding in new_embeddings):\n",
    "    # 将新的嵌入向量列表转换为 numpy 数组\n",
    "    new_embeddings = np.array(new_embeddings)\n",
    "else:\n",
    "    raise ValueError(\"文本文件中的嵌入向量长度不一致，请检查文件内容。\")\n",
    "\n",
    "# 步骤 3：用新的嵌入向量替换 DataFrame 中的旧嵌入向量\n",
    "if len(new_embeddings) != len(df):\n",
    "    raise ValueError(\"DataFrame 的行数与新的嵌入向量的数量不匹配，请检查文件。\")\n",
    "\n",
    "df['embedding'] = new_embeddings.tolist()\n",
    "\n",
    "# 步骤 4：将更新后的 DataFrame 保存到新的 CSV 文件\n",
    "output_csv_path = r'E:\\桌面\\服务器\\similarity_GO\\basic\\data\\prior\\GO_IDs_Namespaces_Embedding_updated.csv'\n",
    "df.to_csv(output_csv_path, index=False)\n",
    "\n",
    "print(\"嵌入向量已成功替换并保存到新的 CSV 文件中。\")\n"
   ],
   "outputs": [
    {
     "name": "stdout",
     "output_type": "stream",
     "text": [
      "嵌入向量已成功替换并保存到新的 CSV 文件中。\n"
     ]
    }
   ],
   "execution_count": 1
  },
  {
   "metadata": {
    "ExecuteTime": {
     "end_time": "2025-04-03T06:33:13.804830Z",
     "start_time": "2025-04-03T06:33:12.905321Z"
    }
   },
   "cell_type": "code",
   "source": [
    "import os\n",
    "import numpy as np\n",
    "from sklearn.decomposition import PCA\n",
    "\n",
    "# 输入文件路径和参数\n",
    "input_file = r'E:\\桌面\\服务器\\similarity_GO\\basic\\embed\\embeding\\SODGO_embedings.txt'\n",
    "output_file = r'E:\\桌面\\服务器\\similarity_GO\\basic\\embed\\reform_dim\\SODGO_embedings_reduced.txt'\n",
    "old_dim = 128  # 原始维度大小\n",
    "new_dim = 24   # 降低到的目标维度\n",
    "\n",
    "# 读取原始文件\n",
    "def read_embeddings(file_path):\n",
    "    if not os.path.exists(file_path):\n",
    "        raise FileNotFoundError(f\"找不到文件: {file_path}\")\n",
    "    \n",
    "    with open(file_path, 'r') as f:\n",
    "        # 第一行包含实体数量和维度信息\n",
    "        first_line = f.readline().strip().split()\n",
    "        entity_count = int(first_line[0])\n",
    "        dim = int(first_line[1]) *3\n",
    "        \n",
    "        # 读取嵌入数据\n",
    "        embeddings = []\n",
    "        entity_ids = []\n",
    "        for line in f:\n",
    "            parts = line.strip().split()\n",
    "            entity_ids.append(parts[0])  # 第一列为实体id\n",
    "            embeddings.append([float(x) for x in parts[1:]])\n",
    "        \n",
    "    return entity_count, dim, entity_ids, np.array(embeddings)\n",
    "\n",
    "# 保存降维后的嵌入\n",
    "def save_embeddings(file_path, entity_count, new_dim, entity_ids, reduced_embeddings):\n",
    "    with open(file_path, 'w') as f:\n",
    "        # 写入第一行：实体数量和新的维度信息\n",
    "        f.write(f\"{entity_count} {3 * new_dim}\\n\")\n",
    "        \n",
    "        # 写入降维后的嵌入数据\n",
    "        for entity_id, embedding in zip(entity_ids, reduced_embeddings):\n",
    "            f.write(f\"{entity_id} \" + \" \".join(map(str, embedding)) + \"\\n\")\n",
    "\n",
    "# 对嵌入进行切片并降维\n",
    "def reduce_dimensions(embeddings, old_dim, new_dim):\n",
    "    # 检查是否可以正确地将嵌入划分为3个切片\n",
    "    assert embeddings.shape[1] == 3 * old_dim, \"嵌入的维度不符合3倍old_dim的要求\"\n",
    "    \n",
    "    # 对每个切片分别降维\n",
    "    reduced_embeddings = []\n",
    "    for i in range(3):\n",
    "        slice_start = i * old_dim\n",
    "        slice_end = (i + 1) * old_dim\n",
    "        slice_data = embeddings[:, slice_start:slice_end]\n",
    "        \n",
    "        # 使用PCA进行降维\n",
    "        pca = PCA(n_components=new_dim)\n",
    "        reduced_slice = pca.fit_transform(slice_data)\n",
    "        reduced_embeddings.append(reduced_slice)\n",
    "    \n",
    "    # 将降维后的三个切片拼接起来\n",
    "    return np.hstack(reduced_embeddings)\n",
    "\n",
    "# 主流程\n",
    "def main():\n",
    "    try:\n",
    "        # 读取嵌入数据\n",
    "        entity_count, dim, entity_ids, embeddings = read_embeddings(input_file)\n",
    "        \n",
    "        # 打印嵌入的前五行\n",
    "        print(\"嵌入的前五行:\")\n",
    "        for entity_id, embedding in zip(entity_ids[:5], embeddings[:5]):\n",
    "            print(entity_id, embedding)\n",
    "        \n",
    "        # 检查维度是否符合要求\n",
    "        if dim != 3 * old_dim:\n",
    "            raise ValueError(f\"文件中的维度({dim})与预期的3 * old_dim({3 * old_dim})不一致。\")\n",
    "        \n",
    "        # 对嵌入进行降维\n",
    "        reduced_embeddings = reduce_dimensions(embeddings, old_dim, new_dim)\n",
    "        \n",
    "        # 保存降维后的嵌入\n",
    "        save_embeddings(output_file, entity_count, new_dim, entity_ids, reduced_embeddings)\n",
    "        print(f\"降维后的嵌入已保存到 {output_file}\")\n",
    "    except FileNotFoundError as e:\n",
    "        print(e)\n",
    "    except ValueError as e:\n",
    "        print(e)\n",
    "\n",
    "if __name__ == \"__main__\":\n",
    "    main()\n"
   ],
   "id": "65f5695180053e76",
   "outputs": [
    {
     "name": "stdout",
     "output_type": "stream",
     "text": [
      "找不到文件: E:\\桌面\\服务器\\similarity_GO\\basic\\embed\\embeding\\SODGO_embedings.txt\n"
     ]
    }
   ],
   "execution_count": 1
  },
  {
   "metadata": {},
   "cell_type": "code",
   "outputs": [],
   "execution_count": null,
   "source": "",
   "id": "ed7ed37f7c020ab5"
  }
 ],
 "metadata": {
  "kernelspec": {
   "display_name": "Python 3",
   "language": "python",
   "name": "python3"
  },
  "language_info": {
   "codemirror_mode": {
    "name": "ipython",
    "version": 2
   },
   "file_extension": ".py",
   "mimetype": "text/x-python",
   "name": "python",
   "nbconvert_exporter": "python",
   "pygments_lexer": "ipython2",
   "version": "2.7.6"
  }
 },
 "nbformat": 4,
 "nbformat_minor": 5
}
